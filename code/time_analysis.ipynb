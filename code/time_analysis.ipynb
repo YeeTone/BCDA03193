{
 "cells": [
  {
   "cell_type": "code",
   "execution_count": null,
   "id": "fa86e5de",
   "metadata": {},
   "outputs": [],
   "source": [
    "comm_day_pos = data_pos['timestamp'].apply(lambda x: x.strftime('%Y-%m')).value_counts()\n",
    "comm_day_pos = comm_day_pos.sort_index()\n",
    "comm_day_neg = data_neg['timestamp'].apply(lambda x: x.strftime('%Y-%m')).value_counts()\n",
    "comm_day_neg = comm_day_neg.sort_index()\n",
    "\n",
    "plt.figure(figsize=(8,5))\n",
    "plt.plot(range(len(comm_day_pos)), comm_day_pos, label='积极情绪评价')\n",
    "plt.plot(range(len(comm_day_neg)), comm_day_neg, label='消极情绪评价')\n",
    "plt.xticks(range(len(comm_day_pos)), comm_day_pos.index,rotation=45)\n",
    "plt.grid()\n",
    "plt.title('积极/消极评价随日期变化图')\n",
    "plt.xlabel('日期')\n",
    "plt.ylabel('用户评价数量')\n",
    "plt.legend()"
   ]
  },
  {
   "cell_type": "code",
   "execution_count": null,
   "id": "721b95b4",
   "metadata": {},
   "outputs": [],
   "source": [
    "comm_hour_pos = pd.to_datetime(data_pos['timestamp']).apply(lambda x: x.hour).value_counts()\n",
    "comm_hour_pos = comm_hour_pos.sort_index()\n",
    "\n",
    "comm_hour_neg = pd.to_datetime(data_neg['timestamp']).apply(lambda x: x.hour).value_counts()\n",
    "comm_hour_neg = comm_hour_neg.sort_index()\n",
    "\n",
    "plt.plot(comm_hour_pos.index, comm_hour_pos, label='积极情绪评价')\n",
    "plt.plot(comm_hour_neg.index, comm_hour_neg, label='消极情绪评价')\n",
    "plt.title('积极/消极评价随时刻变化图')\n",
    "plt.xticks(ticks=range(0,24))\n",
    "plt.yticks(ticks=range(0,1000,100))\n",
    "plt.xlabel('时刻')\n",
    "plt.ylabel('用户评价数量')\n",
    "plt.grid()\n",
    "plt.legend()"
   ]
  }
 ],
 "metadata": {
  "kernelspec": {
   "display_name": "Python 3",
   "language": "python",
   "name": "python3"
  },
  "language_info": {
   "codemirror_mode": {
    "name": "ipython",
    "version": 3
   },
   "file_extension": ".py",
   "mimetype": "text/x-python",
   "name": "python",
   "nbconvert_exporter": "python",
   "pygments_lexer": "ipython3",
   "version": "3.8.8"
  }
 },
 "nbformat": 4,
 "nbformat_minor": 5
}
