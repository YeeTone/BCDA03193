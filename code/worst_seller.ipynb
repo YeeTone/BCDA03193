{
 "cells": [
  {
   "cell_type": "code",
   "execution_count": null,
   "id": "897228c5",
   "metadata": {},
   "outputs": [],
   "source": [
    "def autolabel(rects):\n",
    "    for rect in rects:\n",
    "        height = rect.get_height()\n",
    "        plt.text(rect.get_x()+rect.get_width()/2.-0.3, 1.03*height, '%s' % int(height), size=18, family=\"Consolas\")\n",
    "\n",
    "worst_sellers = data_neg['sellerId'].value_counts().nlargest(10)\n",
    "autolabel(plt.bar(range(len(worst_sellers[:10])), worst_sellers[:10], label='消极评论数量'))\n",
    "plt.xticks(range(len(worst_sellers[:10])), worst_sellers[:10].index, rotation=45)\n",
    "plt.title('消极评论最多商家')\n",
    "plt.grid()\n",
    "plt.legend()"
   ]
  },
  {
   "cell_type": "code",
   "execution_count": null,
   "id": "0f1e0703",
   "metadata": {},
   "outputs": [],
   "source": [
    "worst_seller_comments = data_neg[data_neg['sellerId'] == 971]['comment']\n",
    "worst_seller_comments_cut = worst_seller_comments.apply(jieba.lcut)\n",
    "worst_seller_comments_cut = worst_seller_comments_cut.apply(lambda x : [i for i in x if i not in stopwords])\n",
    "worst_seller_comments_freq = pd.Series(list(itertools.chain(*list(worst_seller_comments_cut)))).value_counts()\n",
    "worst_seller_comments_wc2 = wc.fit_words(worst_seller_comments_freq)\n",
    "show(worst_seller_comments_wc2, '../stopword/wordcloud_worst_seller.png')"
   ]
  }
 ],
 "metadata": {
  "kernelspec": {
   "display_name": "Python 3",
   "language": "python",
   "name": "python3"
  },
  "language_info": {
   "codemirror_mode": {
    "name": "ipython",
    "version": 3
   },
   "file_extension": ".py",
   "mimetype": "text/x-python",
   "name": "python",
   "nbconvert_exporter": "python",
   "pygments_lexer": "ipython3",
   "version": "3.8.8"
  }
 },
 "nbformat": 4,
 "nbformat_minor": 5
}
