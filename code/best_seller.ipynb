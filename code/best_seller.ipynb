{
 "cells": [
  {
   "cell_type": "code",
   "execution_count": null,
   "id": "8262ab1f",
   "metadata": {},
   "outputs": [],
   "source": [
    "def autolabel(rects):\n",
    "    for rect in rects:\n",
    "        height = rect.get_height()\n",
    "        plt.text(rect.get_x()+rect.get_width()/2.-0.3, 1.03*height, '%s' % int(height), size=18, family=\"Consolas\")\n",
    "\n",
    "best_sellers = data_pos['sellerId'].value_counts().nlargest(10)\n",
    "autolabel(plt.bar(range(len(best_sellers[:10])), best_sellers[:10], label='积极评论数量'))\n",
    "plt.xticks(range(len(best_sellers[:10])), best_sellers[:10].index, rotation=45)\n",
    "plt.title('积极评论最多商家')\n",
    "plt.grid()\n",
    "plt.legend()\n"
   ]
  },
  {
   "cell_type": "code",
   "execution_count": null,
   "id": "44095b78",
   "metadata": {
    "scrolled": true
   },
   "outputs": [],
   "source": [
    "best_seller_comments = data_pos[data_pos['sellerId'] == 1041]['comment']\n",
    "best_seller_comments_cut = best_seller_comments.apply(jieba.lcut)\n",
    "best_seller_comments_cut = best_seller_comments_cut.apply(lambda x : [i for i in x if i not in stopwords])\n",
    "best_seller_comments_freq = pd.Series(list(itertools.chain(*list(best_seller_comments_cut)))).value_counts()\n",
    "best_seller_comments_wc2 = wc.fit_words(best_seller_comments_freq)\n",
    "show(best_seller_comments_wc2, '../stopword/wordcloud_best_seller.png')"
   ]
  }
 ],
 "metadata": {
  "kernelspec": {
   "display_name": "Python 3",
   "language": "python",
   "name": "python3"
  },
  "language_info": {
   "codemirror_mode": {
    "name": "ipython",
    "version": 3
   },
   "file_extension": ".py",
   "mimetype": "text/x-python",
   "name": "python",
   "nbconvert_exporter": "python",
   "pygments_lexer": "ipython3",
   "version": "3.8.8"
  }
 },
 "nbformat": 4,
 "nbformat_minor": 5
}
