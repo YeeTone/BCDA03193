{
 "cells": [
  {
   "cell_type": "code",
   "execution_count": null,
   "outputs": [],
   "source": [
    "import pandas as pd\n",
    "\n",
    "data = pd.read_excel('../data/data.xlsx')\n",
    "data.head()\n"
   ],
   "metadata": {
    "collapsed": false
   }
  },
  {
   "cell_type": "code",
   "execution_count": null,
   "id": "15920cb6",
   "metadata": {},
   "outputs": [],
   "source": [
    "import re\n",
    "\n",
    "data['comment'] = data['comment'].apply(lambda x: x.replace('text：',''))\n",
    "data['comment'] = data['comment'].apply(lambda x: re.sub('[^\\u4E00-\\u9FD5,.?!，。！？、；;:：0-9]+', '', x))\n",
    "data.head()"
   ]
  },
  {
   "cell_type": "code",
   "execution_count": null,
   "id": "c0dded65",
   "metadata": {},
   "outputs": [],
   "source": [
    "import matplotlib.pyplot as plt\n",
    "\n",
    "def make_autopct(values):\n",
    "    def my_autopct(pct):\n",
    "        total = sum(values)\n",
    "        val = int(round(pct*total/100.0))\n",
    "        # 同时显示数值和占比的饼图\n",
    "        return '{p:.2f}% ({v:d})'.format(p=pct,v=val)\n",
    "    return my_autopct\n",
    "\n",
    "num = data['target'].apply(lambda x: '积极' if x == 0 else '消极').value_counts()\n",
    "plt.figure(figsize=(4,4))\n",
    "plt.rcParams['font.sans-serif'] = 'Simhei'\n",
    "plt.pie(num, autopct=make_autopct(num), labels=num.index)\n",
    "plt.title('餐品积极/消极评论标签')\n",
    "plt.show()\n"
   ]
  },
  {
   "cell_type": "code",
   "execution_count": null,
   "id": "e50fa2da",
   "metadata": {},
   "outputs": [],
   "source": [
    "import jieba\n",
    "import itertools\n",
    "\n",
    "with open('../stopword/stopword-cn.txt','r', encoding = 'utf-8') as f:\n",
    "    stopwords = f.read()\n",
    "    \n",
    "stopwords = stopwords.split()\n",
    "stopwords.append(' ')\n",
    "stopwords.append('\\n')\n",
    "\n",
    "data_neg = data[data['target'] == 1]\n",
    "data_pos = data[data['target'] == 0]\n",
    "\n",
    "data_neg_cut = data_neg['comment'].apply(jieba.lcut)\n",
    "data_neg_cut = data_neg_cut.apply(lambda x : [i for i in x if i not in stopwords])\n",
    "print(data_neg_cut.head())\n",
    "\n",
    "data_pos_cut = data_pos['comment'].apply(jieba.lcut)\n",
    "data_pos_cut = data_pos_cut.apply(lambda x : [i for i in x if i not in stopwords])\n",
    "print(data_pos_cut.head())"
   ]
  },
  {
   "cell_type": "code",
   "execution_count": null,
   "id": "953b84c4",
   "metadata": {},
   "outputs": [],
   "source": [
    "from wordcloud import WordCloud\n",
    "import numpy as np\n",
    "from PIL import Image\n",
    "\n",
    "def show(wc, fn=None):\n",
    "    plt.imshow(wc)\n",
    "    plt.axis('off')\n",
    "    plt.show()\n",
    "    if fn is not None:\n",
    "        wc.to_file(fn)\n",
    "\n",
    "freq = pd.Series(list(itertools.chain(*list(data_pos_cut)))).value_counts()\n",
    "mask = np.array(Image.open('../stopword/China.jpg'))\n",
    "wc = WordCloud(scale=4,\n",
    "               width=2500, \n",
    "               height=3000,\n",
    "               font_path='C:/Windows/Fonts/simkai.ttf',\n",
    "               background_color='White', mask=mask)\n",
    "wc2 = wc.fit_words(freq)\n",
    "show(wc2, '../stopword/wordcloud.png')"
   ]
  },
  {
   "cell_type": "code",
   "execution_count": null,
   "id": "01ce9f7c",
   "metadata": {},
   "outputs": [],
   "source": [
    "freq_pos = pd.Series(list(itertools.chain(*list(data_pos_cut)))).value_counts()\n",
    "freq_neg = pd.Series(list(itertools.chain(*list(data_neg_cut)))).value_counts()\n",
    "\n",
    "wc2_pos = wc.fit_words(freq_pos)\n",
    "show(wc2_pos, '../stopword/wordcloud_pos.png')\n",
    "\n",
    "wc2_neg = wc.fit_words(freq_neg)\n",
    "show(wc2_neg, '../stopword/wordcloud_neg.png')"
   ]
  }
 ],
 "metadata": {
  "kernelspec": {
   "display_name": "Python 3",
   "language": "python",
   "name": "python3"
  },
  "language_info": {
   "codemirror_mode": {
    "name": "ipython",
    "version": 3
   },
   "file_extension": ".py",
   "mimetype": "text/x-python",
   "name": "python",
   "nbconvert_exporter": "python",
   "pygments_lexer": "ipython3",
   "version": "3.8.8"
  }
 },
 "nbformat": 4,
 "nbformat_minor": 5
}
